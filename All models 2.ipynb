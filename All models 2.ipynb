{
 "cells": [
  {
   "cell_type": "code",
   "execution_count": 1,
   "id": "5092c1aa",
   "metadata": {},
   "outputs": [],
   "source": [
    "from sklearn import datasets, metrics, preprocessing\n",
    "from sklearn.model_selection import train_test_split\n",
    "from sklearn.linear_model import LogisticRegression\n",
    "from sklearn.svm import SVC\n",
    "from sklearn.neighbors import KNeighborsClassifier\n",
    "from sklearn.tree import DecisionTreeClassifier\n",
    "from sklearn.ensemble import RandomForestClassifier\n",
    "from sklearn.metrics import confusion_matrix, accuracy_score\n",
    "from sklearn.naive_bayes import GaussianNB\n",
    "import numpy as np\n",
    "import matplotlib.pyplot as plt"
   ]
  },
  {
   "cell_type": "code",
   "execution_count": 2,
   "id": "cbdb5bf5",
   "metadata": {},
   "outputs": [],
   "source": [
    "def process(image):\n",
    "    image -= image.min()\n",
    "    image /= image.max()\n",
    "    image*=255\n",
    "    return image.astype(np.unit8)"
   ]
  },
  {
   "cell_type": "code",
   "execution_count": 3,
   "id": "18b4cb11",
   "metadata": {},
   "outputs": [
    {
     "data": {
      "text/plain": [
       "1797"
      ]
     },
     "execution_count": 3,
     "metadata": {},
     "output_type": "execute_result"
    }
   ],
   "source": [
    "mnist = datasets.load_digits()\n",
    "images = mnist.images\n",
    "labels=mnist.target\n",
    "data_size =len(images)\n",
    "data_size"
   ]
  },
  {
   "cell_type": "code",
   "execution_count": 4,
   "id": "45dcf0d9",
   "metadata": {},
   "outputs": [],
   "source": [
    "images = images.reshape(data_size,-1)\n",
    "images = preprocessing.scale(images)"
   ]
  },
  {
   "cell_type": "code",
   "execution_count": 5,
   "id": "021c1694",
   "metadata": {},
   "outputs": [],
   "source": [
    "split = 0.75\n",
    "x_train,y_train = images[:int(data_size*split)],labels[:int(data_size*split)]\n",
    "x_test,y_test = images[int(data_size*split):],labels[int(data_size*split):]"
   ]
  },
  {
   "cell_type": "code",
   "execution_count": 6,
   "id": "90f6b10e",
   "metadata": {},
   "outputs": [],
   "source": [
    "svm_classifier = SVC()\n",
    "rf = RandomForestClassifier()\n",
    "knn = KNeighborsClassifier(n_neighbors=5)\n",
    "dt = DecisionTreeClassifier()\n",
    "lr = LogisticRegression()\n",
    "nb = GaussianNB()"
   ]
  },
  {
   "cell_type": "code",
   "execution_count": 7,
   "id": "1549c795",
   "metadata": {},
   "outputs": [
    {
     "data": {
      "text/plain": [
       "GaussianNB()"
      ]
     },
     "execution_count": 7,
     "metadata": {},
     "output_type": "execute_result"
    }
   ],
   "source": [
    "svm_classifier.fit(x_train,y_train)\n",
    "rf.fit(x_train,y_train)\n",
    "knn.fit(x_train,y_train)\n",
    "dt.fit(x_train,y_train)\n",
    "lr.fit(x_train,y_train)\n",
    "nb.fit(x_train,y_train)"
   ]
  },
  {
   "cell_type": "code",
   "execution_count": 10,
   "id": "5bbcab4e",
   "metadata": {},
   "outputs": [],
   "source": [
    "svm_p = svm_classifier.predict(x_test)\n",
    "rf_p = rf.predict(x_test)\n",
    "knn_p = knn.predict(x_test)\n",
    "dt_p = dt.predict(x_test)\n",
    "lr_p = lr.predict(x_test)\n",
    "nb_p = nb.predict(x_test)"
   ]
  },
  {
   "cell_type": "code",
   "execution_count": 11,
   "id": "3feb0481",
   "metadata": {},
   "outputs": [
    {
     "name": "stdout",
     "output_type": "stream",
     "text": [
      "Accuracy LR: 0.9155555555555556\n",
      "Accuracy SVM: 0.9555555555555556\n",
      "Accuracy KNN: 0.9422222222222222\n",
      "Accuracy DT: 0.7688888888888888\n",
      "Accuracy RF: 0.94\n",
      "Accuracy NB: 0.7822222222222223\n"
     ]
    }
   ],
   "source": [
    "print('Accuracy LR:', accuracy_score(y_test,lr_p))\n",
    "print('Accuracy SVM:', accuracy_score(y_test,svm_p))\n",
    "print('Accuracy KNN:', accuracy_score(y_test,knn_p))\n",
    "print('Accuracy DT:', accuracy_score(y_test,dt_p))\n",
    "print('Accuracy RF:', accuracy_score(y_test,rf_p))\n",
    "print('Accuracy NB:', accuracy_score(y_test,nb_p))"
   ]
  },
  {
   "cell_type": "code",
   "execution_count": null,
   "id": "87458e9c",
   "metadata": {},
   "outputs": [],
   "source": []
  }
 ],
 "metadata": {
  "kernelspec": {
   "display_name": "Python 3 (ipykernel)",
   "language": "python",
   "name": "python3"
  },
  "language_info": {
   "codemirror_mode": {
    "name": "ipython",
    "version": 3
   },
   "file_extension": ".py",
   "mimetype": "text/x-python",
   "name": "python",
   "nbconvert_exporter": "python",
   "pygments_lexer": "ipython3",
   "version": "3.9.12"
  }
 },
 "nbformat": 4,
 "nbformat_minor": 5
}
